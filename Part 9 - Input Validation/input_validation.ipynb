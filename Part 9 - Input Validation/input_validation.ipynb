{
 "cells": [
  {
   "cell_type": "markdown",
   "id": "3e993a06",
   "metadata": {},
   "source": [
    "# 📘 Automate the Boring Stuff with Python - Part 9: Input Validation\n",
    "Welcome to this notebook on **Input Validation** in Python, featuring the powerful and user-friendly `pyinputplus` module. You'll learn how to ensure your programs only accept correct and safe user input through built-in methods and external tools."
   ]
  },
  {
   "cell_type": "markdown",
   "id": "4a206e8f",
   "metadata": {},
   "source": [
    "## 🔹 1. What is Input Validation?\n",
    "Input validation is a critical step in ensuring that your programs behave correctly when they receive input from users. This includes verifying:\n",
    "- The type of input (e.g., number vs. string)\n",
    "- Format and pattern\n",
    "- Value ranges\n",
    "- That the input is not malicious"
   ]
  },
  {
   "cell_type": "code",
   "execution_count": null,
   "id": "9a62ddb6",
   "metadata": {},
   "outputs": [],
   "source": [
    "# Example: Manual validation for age input\n",
    "while True:\n",
    "    age = input('Enter your age: ')\n",
    "    try:\n",
    "        age = int(age)\n",
    "        if age < 1:\n",
    "            print('Please enter a positive number.')\n",
    "            continue\n",
    "        break\n",
    "    except ValueError:\n",
    "        print('Please enter numeric digits.')\n",
    "        continue\n",
    "\n",
    "print(f'Your age is: {age}')"
   ]
  },
  {
   "cell_type": "markdown",
   "id": "98886039",
   "metadata": {},
   "source": [
    "## 🔹 2. Introducing `pyinputplus`\n",
    "`pyinputplus` is an external Python module that simplifies input validation. Instead of writing long loops and `try/except` blocks, you use ready-made functions."
   ]
  },
  {
   "cell_type": "code",
   "execution_count": null,
   "id": "c9c07394",
   "metadata": {},
   "outputs": [],
   "source": [
    "!pip install pyinputplus"
   ]
  },
  {
   "cell_type": "code",
   "execution_count": null,
   "id": "a78d7203",
   "metadata": {},
   "outputs": [],
   "source": [
    "import pyinputplus as pyip\n",
    "\n",
    "response = pyip.inputNum(prompt=\"Enter a number: \")\n",
    "print(f\"You entered: {response}\")"
   ]
  },
  {
   "cell_type": "markdown",
   "id": "ab657eed",
   "metadata": {},
   "source": [
    "## 🔹 3. Input Types\n",
    "- `inputStr()` – Accepts any non-blank string\n",
    "- `inputNum()` – Accepts floats and integers\n",
    "- `inputInt()` – Accepts integers only\n",
    "- `inputFloat()` – Accepts floating-point numbers"
   ]
  },
  {
   "cell_type": "code",
   "execution_count": null,
   "id": "34b9c39e",
   "metadata": {},
   "outputs": [],
   "source": [
    "int_val = pyip.inputInt(prompt='Enter an integer: ')\n",
    "float_val = pyip.inputFloat(prompt='Enter a float: ')\n",
    "print(f\"Integer: {int_val}, Float: {float_val}\")"
   ]
  },
  {
   "cell_type": "markdown",
   "id": "a61d7240",
   "metadata": {},
   "source": [
    "## 🔹 4. Keyword Arguments: Prompt, Ranges, and Limits"
   ]
  },
  {
   "cell_type": "code",
   "execution_count": null,
   "id": "cd2c1f1e",
   "metadata": {},
   "outputs": [],
   "source": [
    "# Prompt with range limits\n",
    "num = pyip.inputInt(prompt='Enter a number between 1 and 10: ', min=1, max=10)\n",
    "print(f\"You entered: {num}\")"
   ]
  },
  {
   "cell_type": "code",
   "execution_count": null,
   "id": "369af5c5",
   "metadata": {},
   "outputs": [],
   "source": [
    "# Handling blank input\n",
    "name = pyip.inputStr(prompt='Enter your name (optional): ', blank=True)\n",
    "print(f\"Your name is: '{name}'\")"
   ]
  },
  {
   "cell_type": "code",
   "execution_count": null,
   "id": "2abb3113",
   "metadata": {},
   "outputs": [],
   "source": [
    "# Limit and timeout\n",
    "try:\n",
    "    age = pyip.inputInt(prompt='Enter your age (max 2 tries): ', limit=2)\n",
    "    print(f\"Age: {age}\")\n",
    "except pyip.RetryLimitException:\n",
    "    print(\"Too many invalid attempts!\")"
   ]
  },
  {
   "cell_type": "code",
   "execution_count": null,
   "id": "02574fad",
   "metadata": {},
   "outputs": [],
   "source": [
    "# Timeout\n",
    "try:\n",
    "    name = pyip.inputStr(prompt='Enter your name (5 second timeout): ', timeout=5)\n",
    "    print(f\"Name: {name}\")\n",
    "except pyip.TimeoutException:\n",
    "    print(\"You ran out of time!\")"
   ]
  },
  {
   "cell_type": "code",
   "execution_count": null,
   "id": "07b0e3d1",
   "metadata": {},
   "outputs": [],
   "source": [
    "# Default value on failure\n",
    "age = pyip.inputInt(prompt='Enter your age: ', limit=2, default='N/A')\n",
    "print(f\"Age: {age}\")"
   ]
  },
  {
   "cell_type": "markdown",
   "id": "54b189b7",
   "metadata": {},
   "source": [
    "## 🔹 5. Using Regular Expressions for Validation"
   ]
  },
  {
   "cell_type": "code",
   "execution_count": null,
   "id": "f95eabb8",
   "metadata": {},
   "outputs": [],
   "source": [
    "# Allow Roman numerals or digits\n",
    "valid_input = pyip.inputStr(\n",
    "    allowRegexes=[r'^\\d+$', r'^[IVXLCDM]+$'], \n",
    "    prompt='Enter a number or Roman numeral: '\n",
    ")\n",
    "print(f\"You entered: {valid_input}\")\n",
    "\n",
    "# Block certain words\n",
    "blocked = pyip.inputStr(\n",
    "    blockRegexes=[r'cat'], \n",
    "    prompt='Say something (but not about cats): '\n",
    ")\n",
    "print(f\"You said: {blocked}\")"
   ]
  },
  {
   "cell_type": "markdown",
   "id": "60ff30e6",
   "metadata": {},
   "source": [
    "## 🔹 6. Custom Validation Functions"
   ]
  },
  {
   "cell_type": "code",
   "execution_count": null,
   "id": "4f4fa975",
   "metadata": {},
   "outputs": [],
   "source": [
    "def adds_up_to_10(text):\n",
    "    digits = [int(d) for d in text]\n",
    "    if sum(digits) != 10:\n",
    "        raise pyip.ValidationException(\"Digits must add up to 10\")\n",
    "    return text\n",
    "\n",
    "user_input = pyip.inputCustom(adds_up_to_10, prompt=\"Enter digits that sum to 10: \")\n",
    "print(f\"You entered: {user_input}\")"
   ]
  },
  {
   "cell_type": "markdown",
   "id": "bb592b7f",
   "metadata": {},
   "source": [
    "## 🔹 7. Fun Projects & Practice Ideas\n",
    "- **Keep an Idiot Busy**: Use `inputYesNo()` to trap the user in a loop.\n",
    "- **Multiplication Quiz**: Combine regex, timeouts, and retries to make a game.\n",
    "- Try inputFloat() with `greaterThan` or `lessThan` keyword args.\n",
    "- Combine multiple features to make a mini form or CLI questionnaire."
   ]
  },
  {
   "cell_type": "code",
   "execution_count": 1,
   "id": "42cfab69",
   "metadata": {},
   "outputs": [],
   "source": [
    "def inputYesNo():\n",
    "    while True:\n",
    "        response = pyip.inputStr(prompt='Do you want to know how to keep an idiot busy? (yes/no): ')\n",
    "        if response.lower() == 'no':\n",
    "            print('Okay you are free now!')\n",
    "            break\n",
    "\n"
   ]
  },
  {
   "cell_type": "code",
   "execution_count": null,
   "id": "ee966103",
   "metadata": {},
   "outputs": [],
   "source": [
    "inputYesNo()"
   ]
  },
  {
   "cell_type": "code",
   "execution_count": null,
   "id": "b70ff3c6",
   "metadata": {},
   "outputs": [],
   "source": [
    "def mulitplicationQuiz():\n",
    "    import random\n",
    "    import pyinputplus as pyip\n",
    "\n",
    "    score = 0\n",
    "\n",
    "    for i in range(5):\n",
    "        num1 = random.randint(1,10)\n",
    "        num2 = random.randint(1,10)\n",
    "        correct_answer = num1 * num2\n",
    "\n",
    "        prompt = f'{num1} * {num2} = '\n",
    "\n",
    "        try:\n",
    "            response = pyip.inputInt(prompt=prompt, timeout=5, limit=3, allowRegexes=[r'^\\d+$'])\n",
    "\n",
    "            if response == correct_answer:\n",
    "                print('Correct!')\n",
    "                score += 1\n",
    "            else:\n",
    "                print(f'Incorrect! The correct answer is {correct_answer}.')\n",
    "        except pyip.TimeoutException:\n",
    "            print('Time is up!')\n",
    "        except pyip.RetryLimitException:    \n",
    "            print('Too many attempts!')\n",
    "\n",
    "    print(f'Your score is {score} out of 5.')\n",
    "        "
   ]
  },
  {
   "cell_type": "code",
   "execution_count": null,
   "id": "14236c93",
   "metadata": {},
   "outputs": [],
   "source": [
    "mulitplicationQuiz()"
   ]
  },
  {
   "cell_type": "markdown",
   "id": "8cecec57",
   "metadata": {},
   "source": [
    "## ✅ Summary\n",
    "- `pyinputplus` simplifies input validation in Python.\n",
    "- Supports type, range, blank input, retries, defaults, regex, and custom logic.\n",
    "- Practice by rewriting your own input validation using `pyinputplus` functions."
   ]
  }
 ],
 "metadata": {
  "kernelspec": {
   "display_name": "Python 3",
   "language": "python",
   "name": "python3"
  },
  "language_info": {
   "codemirror_mode": {
    "name": "ipython",
    "version": 3
   },
   "file_extension": ".py",
   "mimetype": "text/x-python",
   "name": "python",
   "nbconvert_exporter": "python",
   "pygments_lexer": "ipython3",
   "version": "3.11.9"
  }
 },
 "nbformat": 4,
 "nbformat_minor": 5
}
