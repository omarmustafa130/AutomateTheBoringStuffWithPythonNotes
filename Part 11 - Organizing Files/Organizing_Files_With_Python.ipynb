{
 "cells": [
  {
   "cell_type": "markdown",
   "id": "d4c3ed52",
   "metadata": {},
   "source": [
    "# 📁 Study Notebook: Organizing Files with Python\n",
    "\n",
    "This notebook covers the main techniques for organizing files using Python, including copying, moving, deleting, renaming, and working with ZIP files. Based on *Automate the Boring Stuff with Python* (Chapter 11).\n"
   ]
  },
  {
   "cell_type": "markdown",
   "id": "ef4d86c4",
   "metadata": {},
   "source": [
    "## I. Copying Files and Folders"
   ]
  },
  {
   "cell_type": "markdown",
   "id": "4687c101",
   "metadata": {},
   "source": [
    "### A. Copying a Single File\n",
    "\n",
    "Use `shutil.copy(source, destination)` to copy a file. If the destination is a folder, the file will keep its original name. If the destination includes a filename, it will be renamed.\n"
   ]
  },
  {
   "cell_type": "code",
   "execution_count": null,
   "id": "ea215e8e",
   "metadata": {},
   "outputs": [],
   "source": [
    "import shutil\n",
    "import os\n",
    "\n",
    "# Setup paths\n",
    "p = os.path.expanduser('~')\n",
    "source_file = os.path.join(p, 'spam.txt')\n",
    "destination_folder = os.path.join(p, 'some_folder')\n",
    "\n",
    "# Create a sample file\n",
    "with open(source_file, 'w') as f:\n",
    "    f.write(\"This is some content.\")\n",
    "\n",
    "# Create destination directory\n",
    "os.makedirs(destination_folder, exist_ok=True)\n",
    "\n",
    "# Copy file\n",
    "shutil.copy(source_file, destination_folder)\n"
   ]
  },
  {
   "cell_type": "markdown",
   "id": "e2299826",
   "metadata": {},
   "source": [
    "### B. Copy and Rename a File\n",
    "\n",
    "You can also rename the file while copying by including the new filename in the destination path.\n"
   ]
  },
  {
   "cell_type": "code",
   "execution_count": null,
   "id": "1f68f343",
   "metadata": {},
   "outputs": [],
   "source": [
    "new_destination = os.path.join(destination_folder, 'renamed_spam.txt')\n",
    "shutil.copy(source_file, new_destination)\n"
   ]
  },
  {
   "cell_type": "markdown",
   "id": "e0087c27",
   "metadata": {},
   "source": [
    "### C. Copying a Whole Directory\n",
    "\n",
    "Use `shutil.copytree(source_folder, destination_folder)` to copy an entire folder and its contents. The destination folder must not already exist.\n"
   ]
  },
  {
   "cell_type": "code",
   "execution_count": null,
   "id": "7bcc49a4",
   "metadata": {},
   "outputs": [],
   "source": [
    "source_folder = os.path.join(p, 'spam')\n",
    "destination_folder = os.path.join(p, 'spam_backup')\n",
    "\n",
    "# os.makedirs(source_folder, exist_ok=True)  # Uncomment if running live\n",
    "# shutil.copytree(source_folder, destination_folder)\n"
   ]
  },
  {
   "cell_type": "markdown",
   "id": "50102905",
   "metadata": {},
   "source": [
    "## II. Moving Files and Folders"
   ]
  },
  {
   "cell_type": "markdown",
   "id": "65d2f5b2",
   "metadata": {},
   "source": [
    "### A. Moving Files\n",
    "\n",
    "Use `shutil.move(source, destination)` to move files. If the destination is a folder, the file is moved into it. You can also rename the file during the move.\n"
   ]
  },
  {
   "cell_type": "code",
   "execution_count": null,
   "id": "025f68b3",
   "metadata": {},
   "outputs": [],
   "source": [
    "source_file = os.path.join(p, 'bacon.txt')\n",
    "destination_folder = os.path.join(p, 'x')\n",
    "\n",
    "# Create source file\n",
    "with open(source_file, 'w') as f:\n",
    "    f.write(\"Some bacon content.\")\n",
    "\n",
    "os.makedirs(destination_folder, exist_ok=True)\n",
    "shutil.move(source_file, destination_folder)\n"
   ]
  },
  {
   "cell_type": "markdown",
   "id": "569bbda3",
   "metadata": {},
   "source": [
    "## III. Deleting Files and Folders"
   ]
  },
  {
   "cell_type": "markdown",
   "id": "7c4b52cf",
   "metadata": {},
   "source": [
    "### A. Deleting a File with `os.unlink()`\n",
    "\n",
    "This permanently deletes the file at the given path.\n"
   ]
  },
  {
   "cell_type": "code",
   "execution_count": null,
   "id": "40048491",
   "metadata": {},
   "outputs": [],
   "source": [
    "file_to_delete = 'temp_file.txt'\n",
    "with open(file_to_delete, 'w') as f:\n",
    "    f.write(\"This will be deleted.\")\n",
    "os.unlink(file_to_delete)\n"
   ]
  },
  {
   "cell_type": "markdown",
   "id": "3fc45b15",
   "metadata": {},
   "source": [
    "### B. Deleting an Empty Folder with `os.rmdir()`\n",
    "\n",
    "Only works if the folder is completely empty.\n"
   ]
  },
  {
   "cell_type": "code",
   "execution_count": null,
   "id": "03059879",
   "metadata": {},
   "outputs": [],
   "source": [
    "empty_folder = 'empty_folder'\n",
    "os.makedirs(empty_folder, exist_ok=True)\n",
    "os.rmdir(empty_folder)\n"
   ]
  },
  {
   "cell_type": "markdown",
   "id": "3ea73306",
   "metadata": {},
   "source": [
    "### C. Deleting a Folder and All Contents with `shutil.rmtree()`\n",
    "\n",
    "Be very careful—this deletes the entire folder and everything in it.\n"
   ]
  },
  {
   "cell_type": "code",
   "execution_count": null,
   "id": "db0ccb02",
   "metadata": {},
   "outputs": [],
   "source": [
    "folder_to_delete = 'folder_with_files'\n",
    "os.makedirs(os.path.join(folder_to_delete, 'sub'), exist_ok=True)\n",
    "with open(os.path.join(folder_to_delete, 'file.txt'), 'w') as f:\n",
    "    f.write(\"Delete me.\")\n",
    "shutil.rmtree(folder_to_delete)\n"
   ]
  },
  {
   "cell_type": "markdown",
   "id": "2d71f1a4",
   "metadata": {},
   "source": [
    "### D. Safer Deletion with `send2trash`\n",
    "\n",
    "Moves files to the OS trash/recycle bin instead of deleting permanently.\n"
   ]
  },
  {
   "cell_type": "code",
   "execution_count": null,
   "id": "9625e8f9",
   "metadata": {},
   "outputs": [],
   "source": [
    "# !pip install send2trash\n",
    "import send2trash\n",
    "\n",
    "safe_file = 'safe_delete.txt'\n",
    "with open(safe_file, 'w') as f:\n",
    "    f.write(\"Safe delete.\")\n",
    "send2trash.send2trash(safe_file)\n"
   ]
  },
  {
   "cell_type": "markdown",
   "id": "d6fc8a9c",
   "metadata": {},
   "source": [
    "### E. Deleting Files Based on Extension\n",
    "\n",
    "List all `.txt` files in the home directory, then delete (with caution).\n"
   ]
  },
  {
   "cell_type": "code",
   "execution_count": null,
   "id": "55419191",
   "metadata": {},
   "outputs": [],
   "source": [
    "home_dir = os.path.expanduser('~')\n",
    "txt_files = [f for f in os.listdir(home_dir) if f.endswith('.txt')]\n",
    "print(\"Files that would be deleted:\", txt_files)\n"
   ]
  },
  {
   "cell_type": "markdown",
   "id": "e4a7e802",
   "metadata": {},
   "source": [
    "## IV. Renaming Files"
   ]
  },
  {
   "cell_type": "markdown",
   "id": "72f9f21d",
   "metadata": {},
   "source": [
    "You can rename files using `shutil.move()` by providing the new filename in the destination.\n"
   ]
  },
  {
   "cell_type": "code",
   "execution_count": null,
   "id": "5b9e9189",
   "metadata": {},
   "outputs": [],
   "source": [
    "old_name = os.path.join(p, 'old_name.txt')\n",
    "new_name = os.path.join(p, 'new_name.txt')\n",
    "\n",
    "with open(old_name, 'w') as f:\n",
    "    f.write(\"Renaming me!\")\n",
    "\n",
    "shutil.move(old_name, new_name)\n"
   ]
  },
  {
   "cell_type": "markdown",
   "id": "63350fc1",
   "metadata": {},
   "source": [
    "## V. Walking Through Directories"
   ]
  },
  {
   "cell_type": "markdown",
   "id": "8c3873a9",
   "metadata": {},
   "source": [
    "`os.walk()` yields folder names, subfolders, and files for all directories starting from a root folder.\n"
   ]
  },
  {
   "cell_type": "code",
   "execution_count": null,
   "id": "e6cae881",
   "metadata": {},
   "outputs": [],
   "source": [
    "target_folder = os.path.expanduser('~')\n",
    "\n",
    "for foldername, subfolders, filenames in os.walk(target_folder):\n",
    "    print(f'Folder: {foldername}')\n",
    "    print(f'Subfolders: {subfolders}')\n",
    "    print(f'Files: {filenames}')\n",
    "    print('-' * 40)\n",
    "    break  # Remove break to walk through all directories\n"
   ]
  },
  {
   "cell_type": "markdown",
   "id": "405e76e3",
   "metadata": {},
   "source": [
    "## VI. Working with ZIP Files"
   ]
  },
  {
   "cell_type": "markdown",
   "id": "0ad5117b",
   "metadata": {},
   "source": [
    "### A. Reading ZIP Files\n",
    "\n",
    "Use `zipfile.ZipFile('filename.zip', 'r')` to read contents. Use `.namelist()` and `.getinfo()` to inspect the archive.\n"
   ]
  },
  {
   "cell_type": "code",
   "execution_count": null,
   "id": "80b16b30",
   "metadata": {},
   "outputs": [],
   "source": [
    "import zipfile\n",
    "\n",
    "sample_zip = os.path.join(p, 'example.zip')\n",
    "with zipfile.ZipFile(sample_zip, 'w') as myzip:\n",
    "    myzip.writestr('sample.txt', 'Hello from inside the ZIP!')\n",
    "\n",
    "with zipfile.ZipFile(sample_zip, 'r') as myzip:\n",
    "    print(myzip.namelist())\n",
    "    info = myzip.getinfo('sample.txt')\n",
    "    print(\"Original:\", info.file_size, \"Compressed:\", info.compress_size)\n"
   ]
  },
  {
   "cell_type": "markdown",
   "id": "7c974d81",
   "metadata": {},
   "source": [
    "## VII. Renaming American Dates to European Format"
   ]
  },
  {
   "cell_type": "markdown",
   "id": "b9c0913d",
   "metadata": {},
   "source": [
    "This script looks for MM-DD-YYYY in filenames and renames them to DD-MM-YYYY.\n"
   ]
  },
  {
   "cell_type": "code",
   "execution_count": null,
   "id": "285adf5c",
   "metadata": {},
   "outputs": [],
   "source": [
    "import re\n",
    "\n",
    "date_pattern = re.compile(r'''\n",
    "    ^(.*?)       # before\n",
    "    ((0|1)?\\d)- # month\n",
    "    ((0|1|2|3)?\\d)- # day\n",
    "    ((19|20)\\d{2})  # year\n",
    "    (.*?)$       # after\n",
    "''', re.VERBOSE)\n",
    "\n",
    "for fn in os.listdir('.'):\n",
    "    mo = date_pattern.search(fn)\n",
    "    if not mo:\n",
    "        continue\n",
    "    before, month, _, day, _, year, after = mo.groups()\n",
    "    euro_fn = f\"{before}{day}-{month}-{year}{after}\"\n",
    "    print(f\"Would rename: {fn} -> {euro_fn}\")\n",
    "    # shutil.move(fn, euro_fn)\n"
   ]
  },
  {
   "cell_type": "markdown",
   "id": "73d2dfe2",
   "metadata": {},
   "source": [
    "## VIII. Practice Questions & Answers"
   ]
  },
  {
   "cell_type": "markdown",
   "id": "ef7c1cfc",
   "metadata": {},
   "source": [
    "1. **What's the difference between `copy()` and `copytree()`?**  \n",
    "   - `copy()` copies a single file.  \n",
    "   - `copytree()` copies an entire folder and all its contents.\n",
    "\n",
    "2. **How do you rename a file?**  \n",
    "   - Use `shutil.move(source, destination)` where destination has the new name.\n",
    "\n",
    "3. **What’s the difference between `send2trash` and `os`/`shutil` delete functions?**  \n",
    "   - `send2trash()` moves to recycle bin (recoverable).  \n",
    "   - `os.unlink()` and `shutil.rmtree()` delete permanently.\n",
    "\n",
    "4. **What’s the `open()` equivalent in `zipfile`?**  \n",
    "   - `zipfile.ZipFile('filename.zip', 'r')`\n"
   ]
  },
  {
   "cell_type": "markdown",
   "id": "cef2d1ee",
   "metadata": {},
   "source": [
    "## IX. Conclusion"
   ]
  },
  {
   "cell_type": "markdown",
   "id": "24016a48",
   "metadata": {},
   "source": [
    "This notebook covered Python tools like `os`, `shutil`, and `zipfile` to automate file management tasks.\n",
    "\n",
    "⚠️ Always test file operations with sample data before applying them to important files!\n"
   ]
  }
 ],
 "metadata": {},
 "nbformat": 4,
 "nbformat_minor": 5
}