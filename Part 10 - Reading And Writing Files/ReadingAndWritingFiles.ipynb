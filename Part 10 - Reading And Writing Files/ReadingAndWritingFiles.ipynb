{
 "cells": [
  {
   "cell_type": "markdown",
   "id": "b9e9b9e8",
   "metadata": {},
   "source": [
    "# Automate the Boring Stuff with Python - Part 10: Reading and Writing Files\n",
    "\n",
    "This notebook covers the concepts of reading and writing files in Python as explained in Chapter 9 of *Automate the Boring Stuff with Python* and demonstrated in the Learning Python video series. \n",
    "\n",
    "In this notebook, you'll learn about:\n",
    "- File structure and path management using the `pathlib` module\n",
    "- Getting the current working directory and the home directory\n",
    "- Absolute vs. relative file paths\n",
    "- Reading and writing plain text files using both high-level `Path` methods and the `open()` function\n",
    "- Appending to files\n",
    "- Persisting data with the `shelve` module\n",
    "\n",
    "Let's get started!"
   ]
  },
  {
   "cell_type": "code",
   "execution_count": null,
   "id": "aa730bf0",
   "metadata": {},
   "outputs": [],
   "source": [
    "from pathlib import Path\n",
    "\n",
    "# Creating a Path object using separate folder names and a file name\n",
    "path_object = Path('folder1', 'folder2', 'file.txt')\n",
    "print(\"Example Path object:\", path_object)\n",
    "\n",
    "# Combining path components using the forward slash operator\n",
    "combined_path = Path('folder1') / 'folder2' / 'file.txt'\n",
    "print(\"Combined path using '/':\", combined_path)"
   ]
  },
  {
   "cell_type": "markdown",
   "id": "a7c69f30",
   "metadata": {},
   "source": [
    "## Current Working Directory and Home Directory\n",
    "\n",
    "Every Python program has a **Current Working Directory (CWD)**. This is the directory from which your script is running. Additionally, the home directory is a common place to store files because you usually have read and write permissions there."
   ]
  },
  {
   "cell_type": "code",
   "execution_count": null,
   "id": "00ebf404",
   "metadata": {},
   "outputs": [],
   "source": [
    "import os\n",
    "\n",
    "# Get the current working directory using Path.cwd()\n",
    "current_working_directory = Path.cwd()\n",
    "print(\"Current Working Directory:\", current_working_directory)\n",
    "\n",
    "# Get the home directory using Path.home()\n",
    "home_directory = Path.home()\n",
    "print(\"Home Directory:\", home_directory)"
   ]
  },
  {
   "cell_type": "markdown",
   "id": "5d2bd1e8",
   "metadata": {},
   "source": [
    "## File Paths: Absolute vs. Relative\n",
    "\n",
    "**Absolute paths** start from the root of the filesystem (for example, `C:\\` on Windows or `/` on macOS/Linux), while **relative paths** are defined with respect to the current working directory. \n",
    "\n",
    "Some common references in relative paths:\n",
    "- `.` refers to the current directory\n",
    "- `..` refers to the parent directory"
   ]
  },
  {
   "cell_type": "code",
   "execution_count": null,
   "id": "886e805a",
   "metadata": {},
   "outputs": [],
   "source": [
    "# Example of converting a relative path to an absolute path\n",
    "relative_path = Path('another_folder/file.txt')\n",
    "absolute_from_relative = Path.cwd() / relative_path\n",
    "print(\"Absolute path from relative:\", absolute_from_relative)\n",
    "\n",
    "# Using os.path to check path properties\n",
    "print(\"os.path.abspath('relative/path') =\", os.path.abspath('relative/path'))\n",
    "print(\"os.path.isabs('C:\\\\') =\", os.path.isabs('C:\\\\'))\n",
    "print(\"os.path.isabs('relative/path') =\", os.path.isabs('relative/path'))\n",
    "\n",
    "# Getting a relative path from a starting point using os.path.relpath\n",
    "print(\"Relative path from 'C:\\\\Users\\\\Public\\\\Documents':\", os.path.relpath('C:\\\\Users\\\\Public\\\\Documents'))\n",
    "print(\"Relative path from home directory to CWD:\", os.path.relpath(Path.home(), Path.cwd()))"
   ]
  },
  {
   "cell_type": "markdown",
   "id": "c648fbf7",
   "metadata": {},
   "source": [
    "## Parts of a File Path\n",
    "\n",
    "A file path consists of several components:\n",
    "- **Anchor:** The root of the filesystem (e.g., `/` or `C:\\`)\n",
    "- **Drive:** The drive letter on Windows (e.g., `C:`)\n",
    "- **Parent:** The directory containing the file\n",
    "- **Name:** The file name including its extension\n",
    "- **Stem:** The file name without the extension\n",
    "- **Suffix:** The file extension (e.g., `.txt`)\n",
    "\n",
    "Let's inspect these components with an example:"
   ]
  },
  {
   "cell_type": "code",
   "execution_count": 2,
   "id": "b2f8b36c",
   "metadata": {},
   "outputs": [
    {
     "name": "stdout",
     "output_type": "stream",
     "text": [
      "Anchor: C:\\\n",
      "Drive: C:\n",
      "Parent: C:\\Users\\Omarm\n",
      "Name: spam.txt\n",
      "Stem: spam\n",
      "Suffix: .txt\n",
      "Parents: [WindowsPath('C:/Users/Omarm'), WindowsPath('C:/Users'), WindowsPath('C:/')]\n",
      "Immediate parent: C:\\Users\\Omarm\n",
      "Grandparent: C:\\Users\n"
     ]
    }
   ],
   "source": [
    "from pathlib import Path\n",
    "\n",
    "# Create a sample Path object\n",
    "example_file_path = Path('C:/Users/Omarm/spam.txt')\n",
    "\n",
    "# Display various parts of the file path\n",
    "print(\"Anchor:\", example_file_path.anchor)\n",
    "print(\"Drive:\", example_file_path.drive)\n",
    "print(\"Parent:\", example_file_path.parent)\n",
    "print(\"Name:\", example_file_path.name)\n",
    "print(\"Stem:\", example_file_path.stem)\n",
    "print(\"Suffix:\", example_file_path.suffix)\n",
    "\n",
    "# Display all parent directories\n",
    "print(\"Parents:\", list(example_file_path.parents))\n",
    "if len(example_file_path.parents) > 1:\n",
    "    print(\"Immediate parent:\", example_file_path.parents[0])\n",
    "    print(\"Grandparent:\", example_file_path.parents[1])"
   ]
  },
  {
   "cell_type": "markdown",
   "id": "45e73270",
   "metadata": {},
   "source": [
    "## Checking if a Path Exists\n",
    "\n",
    "Before performing file operations, it is a good practice to check if a path exists. The `exists()` method on a `Path` object returns `True` if the file or directory exists, and `False` otherwise."
   ]
  },
  {
   "cell_type": "code",
   "execution_count": null,
   "id": "b55e68d7",
   "metadata": {},
   "outputs": [],
   "source": [
    "not_exist_dir = Path('not_exist_directory')\n",
    "print(\"Does 'not_exist_directory' exist?\", not_exist_dir.exists())\n",
    "print(\"Does the current working directory exist?\", Path.cwd().exists())"
   ]
  },
  {
   "cell_type": "markdown",
   "id": "d8e3f46e",
   "metadata": {},
   "source": [
    "## Reading and Writing Plain Text Files\n",
    "\n",
    "Plain text files (e.g., files with a `.txt` extension) do not include additional formatting. Python’s `Path` object provides simple methods for reading from and writing to these files."
   ]
  },
  {
   "cell_type": "code",
   "execution_count": 3,
   "id": "161c7b91",
   "metadata": {},
   "outputs": [
    {
     "name": "stdout",
     "output_type": "stream",
     "text": [
      "Content of spam.txt: Hello, world!\n"
     ]
    }
   ],
   "source": [
    "# Write text to a file (this will overwrite the file if it already exists)\n",
    "file_to_write = Path('C:/Users/Omarm/spam.txt')\n",
    "file_to_write.write_text('Hello, world!')\n",
    "\n",
    "# Read the entire content of the file\n",
    "content = file_to_write.read_text()\n",
    "print(\"Content of spam.txt:\", content)"
   ]
  },
  {
   "cell_type": "markdown",
   "id": "2e29b298",
   "metadata": {},
   "source": [
    "## Using the `open()` Function for File I/O\n",
    "\n",
    "While high-level methods provided by the `Path` object are very convenient, the built-in `open()` function gives you more control over file operations. Remember to always close files after opening them. Using the `with` statement is recommended since it automatically handles closing the file."
   ]
  },
  {
   "cell_type": "code",
   "execution_count": null,
   "id": "2cf0740b",
   "metadata": {},
   "outputs": [],
   "source": [
    "# Writing to a file using open() with a context manager\n",
    "hello_file_path = Path.home() / 'hello.txt'\n",
    "try:\n",
    "    with open(hello_file_path, 'w') as f:\n",
    "        f.write('Hello world\\n')\n",
    "        f.write('This is another line.')\n",
    "except Exception as e:\n",
    "    print(\"Error writing to hello.txt:\", e)\n",
    "\n",
    "# Reading from the file using open()\n",
    "try:\n",
    "    with open(hello_file_path, 'r') as hello_file:\n",
    "        hello_content = hello_file.read()\n",
    "    print(\"Content of hello.txt:\", hello_content)\n",
    "except Exception as e:\n",
    "    print(\"Error reading hello.txt:\", e)\n",
    "\n",
    "# Writing multiple lines to another file\n",
    "sony_file_path = Path.home() / 'sony29.txt'\n",
    "try:\n",
    "    with open(sony_file_path, 'w') as f:\n",
    "        f.write('Line 1\\n')\n",
    "        f.write('Second line\\n')\n",
    "        f.write('Third line\\n')\n",
    "        f.write('Fourth line\\n')\n",
    "    \n",
    "    with open(sony_file_path, 'r') as sony_file:\n",
    "        sony_content_lines = sony_file.readlines()\n",
    "    print(\"Lines in sony29.txt:\", sony_content_lines)\n",
    "except Exception as e:\n",
    "    print(\"Error with sony29.txt:\", e)"
   ]
  },
  {
   "cell_type": "markdown",
   "id": "0b20b99e",
   "metadata": {},
   "source": [
    "## Writing to Files with `open()` in Write and Append Modes\n",
    "\n",
    "When writing to files, you have two common modes:\n",
    "- **Write Mode (`'w'`)**: Opens a file for writing, overwriting any existing content.\n",
    "- **Append Mode (`'a'`)**: Opens a file for writing, but appends new data to the end of the file if it exists."
   ]
  },
  {
   "cell_type": "code",
   "execution_count": null,
   "id": "a4a79c30",
   "metadata": {},
   "outputs": [],
   "source": [
    "bacon_file_path = Path('bacon.txt')\n",
    "\n",
    "# Write mode: Overwrites the file if it exists\n",
    "with open(bacon_file_path, 'w') as bacon_file:\n",
    "    bacon_file.write('Hello world!\\n')\n",
    "\n",
    "# Append mode: Adds new content to the file\n",
    "with open(bacon_file_path, 'a') as bacon_file:\n",
    "    bacon_file.write('This line will be appended.\\n')\n",
    "\n",
    "# Reading the entire content after writing and appending\n",
    "with open(bacon_file_path, 'r') as bacon_file:\n",
    "    bacon_content = bacon_file.read()\n",
    "print(\"Content of bacon.txt:\\n\", bacon_content)"
   ]
  },
  {
   "cell_type": "markdown",
   "id": "d65d6fa1",
   "metadata": {},
   "source": [
    "## Saving Data with the `shelve` Module\n",
    "\n",
    "The `shelve` module allows you to persistently store Python objects in a file using a dictionary-like API. **Note:** The module is called `shelve` (not `shelf`)."
   ]
  },
  {
   "cell_type": "code",
   "execution_count": 4,
   "id": "1f8d72b3",
   "metadata": {},
   "outputs": [
    {
     "name": "stdout",
     "output_type": "stream",
     "text": [
      "Type of shelf_file: <class 'shelve.DbfilenameShelf'>\n",
      "Stored cats list: ['Zophie', 'Pooka', 'Simon']\n"
     ]
    }
   ],
   "source": [
    "import shelve\n",
    "\n",
    "# Saving data using shelve\n",
    "with shelve.open('mydata') as shelf_file:\n",
    "    cats = ['Zophie', 'Pooka', 'Simon']\n",
    "    shelf_file['cats'] = cats\n",
    "\n",
    "# Reading data back from the shelf\n",
    "with shelve.open('mydata') as shelf_file:\n",
    "    print(\"Type of shelf_file:\", type(shelf_file))\n",
    "    print(\"Stored cats list:\", shelf_file['cats'])"
   ]
  },
  {
   "cell_type": "markdown",
   "id": "fcbd1ac0",
   "metadata": {},
   "source": [
    "## Practice Project and Summary Questions\n",
    "\n",
    "A brief mention was made of a project to generate random multiple-choice quizzes. This project uses file I/O, randomization, and data structures such as dictionaries and lists to create quizzes with shuffled questions and answers.\n",
    "\n",
    "### Key Concepts Recap:\n",
    "- **Relative vs. Absolute Paths:** Understand how file paths are constructed.\n",
    "- **Path Manipulation:** Use `pathlib` for a more intuitive, object-oriented approach to managing paths.\n",
    "- **File I/O:** Learn the difference between reading, writing, and appending files using both `Path` methods and the `open()` function.\n",
    "- **Persistent Storage:** The `shelve` module lets you store data in a way that persists across program executions."
   ]
  },
  {
   "cell_type": "markdown",
   "id": "73d0bfa7",
   "metadata": {},
   "source": [
    "## Additional Details and Explanations\n",
    "\n",
    "- **Pathlib Module:** Makes path operations easier and more readable compared to manual string manipulation.\n",
    "- **Checking File Existence:** Always verify a file or directory exists before attempting read/write operations to avoid errors.\n",
    "- **File Modes:** The difference between 'r', 'w', and 'a' modes is crucial for ensuring data is handled as intended.\n",
    "- **Using the `with` Statement:** This is a best practice to ensure that files are automatically closed after their suite finishes, even if errors occur.\n",
    "- **Persistent Data with Shelve:** Use the `shelve` module to store and retrieve complex data structures easily."
   ]
  }
 ],
 "metadata": {
  "kernelspec": {
   "display_name": "Python 3",
   "language": "python",
   "name": "python3"
  },
  "language_info": {
   "codemirror_mode": {
    "name": "ipython",
    "version": 3
   },
   "file_extension": ".py",
   "mimetype": "text/x-python",
   "name": "python",
   "nbconvert_exporter": "python",
   "pygments_lexer": "ipython3",
   "version": "3.11.9"
  }
 },
 "nbformat": 4,
 "nbformat_minor": 2
}
